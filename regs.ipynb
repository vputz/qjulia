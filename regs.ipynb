{
 "cells": [
  {
   "cell_type": "code",
   "execution_count": 1,
   "metadata": {
    "collapsed": false,
    "scrolled": true
   },
   "outputs": [
    {
     "name": "stdout",
     "output_type": "stream",
     "text": [
      "\u001b[1m\u001b[37mTest Summary: | \u001b[0m\u001b[1m\u001b[32mPass  \u001b[0m\u001b[1m\u001b[34mTotal\u001b[0m\n",
      "  qreg        | \u001b[1m\u001b[32m   7  \u001b[0m\u001b[1m\u001b[34m    7\u001b[0m\n",
      "00: 1.00\n",
      "01: 0.00\n"
     ]
    }
   ],
   "source": [
    "typealias Amplitude Complex{Float64}\n",
    "typealias CV Array{Amplitude,1}\n",
    "typealias CT Tuple{Amplitude}\n",
    "typealias CM Array{Amplitude,2}\n",
    "\n",
    "using Base.Test\n",
    "\n",
    "type Qreg\n",
    "    state::CV\n",
    "end\n",
    "\n",
    "Qreg(nbits::Int) = begin\n",
    "    result = Qreg(zeros(1 << nbits))\n",
    "    # We set the first index to 1 because initially the register MUST be in a particular state, 000...\n",
    "    result.state[1] = 1\n",
    "    result\n",
    "end\n",
    "\n",
    "is_bin_string(s::String) = reduce(&, [c == '0' || c == '1' for c in s])\n",
    "\n",
    "\"\"\"\n",
    "Convert the passed string in \"[0|1]+\" format to a binary number\n",
    "\"\"\"\n",
    "bin_str_to_int(s::String) = begin\n",
    "    @assert is_bin_string(s)\n",
    "    sr = reverse(s)\n",
    "    reduce(|, [(((sr[i]=='1') & 1) << (i-1)) for i = 1:length(sr)])\n",
    "end\n",
    "\n",
    "\n",
    "\"\"\"\n",
    "Create a quantum register from a string of the form |[0,1]+>\n",
    "\"\"\"\n",
    "Qreg(s::String) = begin\n",
    "    @assert s[1] == '|'\n",
    "    @assert s[end] == '>'\n",
    "    vals = s[2:end-1]\n",
    "    result = Qreg(zeros(1 << length(vals)))\n",
    "    result.state[bin_str_to_int(vals)+1] = 1\n",
    "    result\n",
    "end\n",
    "\n",
    "\n",
    "Base.copy(r::Qreg) = begin\n",
    "    result = Qreg(length(r.state))\n",
    "    result.state = copy(r.state)\n",
    "    result\n",
    "end\n",
    "\n",
    "Base.:≈(lhs::Qreg, rhs::Qreg) = lhs.state ≈ rhs.state\n",
    "\n",
    "\n",
    "\"\"\"\n",
    "Creates a \"cat\" state such that all bits are in a 50% superposition\n",
    "of 0 and 1\n",
    "\"\"\"\n",
    "cat(nbits::Int) = begin\n",
    "    result = Qreg(nbits)\n",
    "    for i=1:nbits\n",
    "        result=apply(H,result,i)\n",
    "    end\n",
    "    result\n",
    "end\n",
    "\n",
    "\n",
    "probs(r::Qreg) = begin\n",
    "    num_digits = Int(log2(length(r.state)))\n",
    "    reps = [ @sprintf(\"%s: %2.2f\", bits(s-1)[end-num_digits:end], abs(r.state[s])^2) for s=1:length(r.state)]\n",
    "    print(join(reps, \"\\n\"),\"\\n\")\n",
    "end\n",
    "\n",
    "# we shouldn't have to make our own copy constructor surely?\n",
    "@testset \"qreg\" begin\n",
    "    @test is_bin_string(\"001110\") == true\n",
    "    @test is_bin_string(\"00111f\") == false\n",
    "    @test bin_str_to_int(\"0\") == 0\n",
    "    @test bin_str_to_int(\"010\") == 2\n",
    "    @test Qreg(1) ≈ Qreg([1+0im, 0+0im])\n",
    "    @test Qreg(\"|0>\") ≈ Qreg([1+0im, 0+0im])\n",
    "    @test Qreg(\"|1>\") ≈ Qreg([0+0im, 1+0im])\n",
    "end\n",
    "\n",
    "probs(Qreg(\"|0>\"))"
   ]
  },
  {
   "cell_type": "code",
   "execution_count": 2,
   "metadata": {
    "collapsed": false
   },
   "outputs": [
    {
     "data": {
      "text/markdown": [
       "```\n",
       "@sprintf(\"%Fmt\", args...)\n",
       "```\n",
       "\n",
       "Return `@printf` formatted output as string.\n",
       "\n",
       "```\n",
       "julia> s = @sprintf \"this is a %s %15.1f\" \"test\" 34.567;\n",
       "\n",
       "julia> println(s)\n",
       "this is a test            34.6\n",
       "```\n"
      ],
      "text/plain": [
       "```\n",
       "@sprintf(\"%Fmt\", args...)\n",
       "```\n",
       "\n",
       "Return `@printf` formatted output as string.\n",
       "\n",
       "```\n",
       "julia> s = @sprintf \"this is a %s %15.1f\" \"test\" 34.567;\n",
       "\n",
       "julia> println(s)\n",
       "this is a test            34.6\n",
       "```\n"
      ]
     },
     "execution_count": 2,
     "metadata": {},
     "output_type": "execute_result"
    }
   ],
   "source": [
    "?@sprintf"
   ]
  },
  {
   "cell_type": "code",
   "execution_count": 3,
   "metadata": {
    "collapsed": false
   },
   "outputs": [],
   "source": [
    "abstract BasicGate\n",
    "\n",
    "abstract MatrixGate <: BasicGate\n",
    "\n",
    "state_pairs(n_states::Int, bit_index::Int) = begin\n",
    "    ups = [i for i in 1:n_states if ((i-1)>>(bit_index-1)) & 1 == 0]\n",
    "    downs = ups + 1 << (bit_index-1)\n",
    "    zip(ups, downs)\n",
    "end\n",
    "# gets the indices of the states in a register corresponding to a bit number\n",
    "state_pairs(r::Qreg, bit_index::Int) = state_pairs(length(r.state), bit_index)\n",
    "\n",
    "Base.:|(g::MatrixGate, r::Qreg, i::Int) = begin\n",
    "end\n"
   ]
  },
  {
   "cell_type": "code",
   "execution_count": 4,
   "metadata": {
    "collapsed": false
   },
   "outputs": [
    {
     "data": {
      "text/plain": [
       "Base.Zip2{Array{Int64,1},Array{Int64,1}}([1,2],[3,4])"
      ]
     },
     "execution_count": 4,
     "metadata": {},
     "output_type": "execute_result"
    }
   ],
   "source": [
    "state_pairs(Qreg(2),2)"
   ]
  },
  {
   "cell_type": "code",
   "execution_count": 5,
   "metadata": {
    "collapsed": false
   },
   "outputs": [
    {
     "name": "stdout",
     "output_type": "stream",
     "text": [
      "\u001b[1m\u001b[37mindices test: \u001b[0m\u001b[1m\u001b[31mTest Failed\n",
      "\u001b[0m  Expression: state_pairs(r,1) == [(1,2),(3,4),(5,6),(7,8)]\n",
      "   Evaluated: Base.Zip2{Array{Int64,1},Array{Int64,1}}([1,3,5,7],[2,4,6,8]) == Tuple{Int64,Int64}[(1,2),(3,4),(5,6),(7,8)]\n",
      " in record(::Base.Test.DefaultTestSet, ::Base.Test.Fail) at .\\test.jl:428\n",
      " in do_test(::Base.Test.Returned, ::Expr) at .\\test.jl:281\n",
      " in macro expansion; at .\\In[5]:6 [inlined]\n",
      " in macro expansion; at .\\test.jl:672 [inlined]\n",
      " in anonymous at .\\<missing>:?\n",
      " in include_string(::String, ::String) at .\\loading.jl:441\n",
      " in execute_request(::ZMQ.Socket, ::IJulia.Msg) at C:\\Users\\Victor.Putz\\.julia\\v0.5\\IJulia\\src\\execute_request.jl:156\n",
      " in eventloop(::ZMQ.Socket) at C:\\Users\\Victor.Putz\\.julia\\v0.5\\IJulia\\src\\eventloop.jl:8\n",
      " in (::IJulia.##13#19)() at .\\task.jl:360\n",
      "\u001b[1m\u001b[37mindices test: \u001b[0m\u001b[1m\u001b[31mTest Failed\n",
      "\u001b[0m  Expression: state_pairs(r,2) == [(1,3),(2,4),(5,7),(6,8)]\n",
      "   Evaluated: Base.Zip2{Array{Int64,1},Array{Int64,1}}([1,2,5,6],[3,4,7,8]) == Tuple{Int64,Int64}[(1,3),(2,4),(5,7),(6,8)]\n",
      " in record(::Base.Test.DefaultTestSet, ::Base.Test.Fail) at .\\test.jl:428\n",
      " in do_test(::Base.Test.Returned, ::Expr) at .\\test.jl:281\n",
      " in macro expansion; at .\\In[5]:7 [inlined]\n",
      " in macro expansion; at .\\test.jl:672 [inlined]\n",
      " in anonymous at .\\<missing>:?\n",
      " in include_string(::String, ::String) at .\\loading.jl:441\n",
      " in execute_request(::ZMQ.Socket, ::IJulia.Msg) at C:\\Users\\Victor.Putz\\.julia\\v0.5\\IJulia\\src\\execute_request.jl:156\n",
      " in eventloop(::ZMQ.Socket) at C:\\Users\\Victor.Putz\\.julia\\v0.5\\IJulia\\src\\eventloop.jl:8\n",
      " in (::IJulia.##13#19)() at .\\task.jl:360\n",
      "\u001b[1m\u001b[37mindices test: \u001b[0m\u001b[1m\u001b[31mTest Failed\n",
      "\u001b[0m  Expression: state_pairs(r,3) == [(1,5),(2,6),(3,7),(4,8)]\n",
      "   Evaluated: Base.Zip2{Array{Int64,1},Array{Int64,1}}([1,2,3,4],[5,6,7,8]) == Tuple{Int64,Int64}[(1,5),(2,6),(3,7),(4,8)]\n",
      " in record(::Base.Test.DefaultTestSet, ::Base.Test.Fail) at .\\test.jl:428\n",
      " in do_test(::Base.Test.Returned, ::Expr) at .\\test.jl:281\n",
      " in macro expansion; at .\\In[5]:8 [inlined]\n",
      " in macro expansion; at .\\test.jl:672 [inlined]\n",
      " in anonymous at .\\<missing>:?\n",
      " in include_string(::String, ::String) at .\\loading.jl:441\n",
      " in execute_request(::ZMQ.Socket, ::IJulia.Msg) at C:\\Users\\Victor.Putz\\.julia\\v0.5\\IJulia\\src\\execute_request.jl:156\n",
      " in eventloop(::ZMQ.Socket) at C:\\Users\\Victor.Putz\\.julia\\v0.5\\IJulia\\src\\eventloop.jl:8\n",
      " in (::IJulia.##13#19)() at .\\task.jl:360\n",
      "\u001b[1m\u001b[37mTest Summary: | \u001b[0m\u001b[1m\u001b[31mFail  \u001b[0m\u001b[1m\u001b[34mTotal\u001b[0m\n",
      "  indices test | \u001b[1m\u001b[31m   3  \u001b[0m\u001b[1m\u001b[34m    3\u001b[0m\n"
     ]
    },
    {
     "ename": "LoadError",
     "evalue": "Some tests did not pass: 0 passed, 3 failed, 0 errored, 0 broken.",
     "output_type": "error",
     "traceback": [
      "Some tests did not pass: 0 passed, 3 failed, 0 errored, 0 broken.",
      "",
      " in finish(::Base.Test.DefaultTestSet) at .\\test.jl:495",
      " in macro expansion; at .\\test.jl:679 [inlined]",
      " in anonymous at .\\<missing>:?"
     ]
    }
   ],
   "source": [
    "\n",
    "\n",
    "r = Qreg(3)\n",
    "state_pairs(r,1)\n",
    "@testset \"indices test\" begin\n",
    "    @test state_pairs(r,1) == [(1,2), (3,4), (5,6), (7,8)]\n",
    "    @test state_pairs(r,2) == [(1,3),(2,4),(5,7),(6,8)]\n",
    "    @test state_pairs(r,3) == [(1,5), (2,6), (3,7), (4,8)]\n",
    "end\n"
   ]
  },
  {
   "cell_type": "code",
   "execution_count": 40,
   "metadata": {
    "collapsed": false
   },
   "outputs": [
    {
     "data": {
      "text/plain": [
       "-1.0 - 1.2246467991473532e-16im"
      ]
     },
     "execution_count": 40,
     "metadata": {},
     "output_type": "execute_result"
    }
   ],
   "source": []
  },
  {
   "cell_type": "code",
   "execution_count": 41,
   "metadata": {
    "collapsed": false
   },
   "outputs": [
    {
     "name": "stderr",
     "output_type": "stream",
     "text": [
      "WARNING: Method definition (::Type{Main.BitwiseMatrixGate})(Array{Base.Complex{Float64}, 2}) in module Main at In[24]:6 overwritten at In[41]:6.\n",
      "WARNING: Method definition (::Type{Main.BitwiseMatrixGate})(Any) in module Main at In[24]:6 overwritten at In[41]:6.\n",
      "WARNING: Method definition apply(Main.BitwiseMatrixGate, Main.Qreg, Int64) in module Main at In[24]:12 overwritten at In[41]:14.\n",
      "WARNING: Method definition (::Type{Main.ControlledMatrixGate})(Main.BitwiseMatrixGate, Int64) in module Main at In[24]:23 overwritten at In[41]:25.\n",
      "WARNING: Method definition (::Type{Main.ControlledMatrixGate})(Any, Any) in module Main at In[24]:23 overwritten at In[41]:25.\n",
      "WARNING: Method definition controlled_pairs(Int64, Array{Int64, N<:Any}, Int64) in module Main at In[24]:30 overwritten at In[41]:32.\n",
      "\u001b[1m\u001b[31mWARNING: replacing docs for 'controlled_pairs :: Tuple{Int64,Array{Int64,N},Int64}' in module 'Main'.\u001b[0m\n"
     ]
    },
    {
     "name": "stdout",
     "output_type": "stream",
     "text": [
      "\u001b[1m\u001b[37mTest Summary: | \u001b[0m\u001b[1m\u001b[32mPass  \u001b[0m\u001b[1m\u001b[34mTotal\u001b[0m\n",
      "  Basic Gates | \u001b[1m\u001b[32m   5  \u001b[0m\u001b[1m\u001b[34m    5\u001b[0m\n"
     ]
    },
    {
     "name": "stderr",
     "output_type": "stream",
     "text": [
      "WARNING: Method definition controlled_pairs(Main.Qreg, Array{Int64, N<:Any}, "
     ]
    },
    {
     "data": {
      "text/plain": [
       "Base.Test.DefaultTestSet(\"Basic Gates\",Any[\u001b[1m\u001b[32mTest Passed\n",
       "\u001b[0m  Expression: controlled_pairs(8,[2],1) == [(3,4),(7,8)]\n",
       "   Evaluated: Tuple{Int64,Int64}[(3,4),(7,8)] == Tuple{Int64,Int64}[(3,4),(7,8)],\u001b[1m\u001b[32mTest Passed\n",
       "\u001b[0m  Expression: apply(X,Qreg(\"|0>\"),1) ≈ Qreg(\"|1>\")\n",
       "   Evaluated: Qreg(Complex{Float64}[0.0+0.0im,1.0+0.0im]) isapprox Qreg(Complex{Float64}[0.0+0.0im,1.0+0.0im]),\u001b[1m\u001b[32mTest Passed\n",
       "\u001b[0m  Expression: apply(X,Qreg(\"|0100>\"),3) ≈ Qreg(\"|0000>\")\n",
       "   Evaluated: Qreg(Complex{Float64}[1.0+0.0im,0.0+0.0im,0.0+0.0im,0.0+0.0im,0.0+0.0im,0.0+0.0im,0.0+0.0im,0.0+0.0im,0.0+0.0im,0.0+0.0im,0.0+0.0im,0.0+0.0im,0.0+0.0im,0.0+0.0im,0.0+0.0im,0.0+0.0im]) isapprox Qreg(Complex{Float64}[1.0+0.0im,0.0+0.0im,0.0+0.0im,0.0+0.0im,0.0+0.0im,0.0+0.0im,0.0+0.0im,0.0+0.0im,0.0+0.0im,0.0+0.0im,0.0+0.0im,0.0+0.0im,0.0+0.0im,0.0+0.0im,0.0+0.0im,0.0+0.0im]),\u001b[1m\u001b[32mTest Passed\n",
       "\u001b[0m  Expression: apply(CNOT,Qreg(\"|10>\"),[2],1) ≈ Qreg(\"|11>\")\n",
       "   Evaluated: Qreg(Complex{Float64}[0.0+0.0im,0.0+0.0im,0.0+0.0im,1.0+0.0im]) isapprox Qreg(Complex{Float64}[0.0+0.0im,0.0+0.0im,0.0+0.0im,1.0+0.0im]),\u001b[1m\u001b[32mTest Passed\n",
       "\u001b[0m  Expression: apply(CNOT,Qreg(\"|00>\"),[2],1) ≈ Qreg(\"|00>\")\n",
       "   Evaluated: Qreg(Complex{Float64}[1.0+0.0im,0.0+0.0im,0.0+0.0im,0.0+0.0im]) isapprox Qreg(Complex{Float64}[1.0+0.0im,0.0+0.0im,0.0+0.0im,0.0+0.0im])],false)"
      ]
     },
     "execution_count": 41,
     "metadata": {},
     "output_type": "execute_result"
    },
    {
     "name": "stderr",
     "output_type": "stream",
     "text": [
      "Int64) in module Main at In[24]:38 overwritten at In[41]:40.\n",
      "WARNING: Method definition apply(Main.ControlledMatrixGate, Main.Qreg, Array{Int64, N<:Any}, Int64) in module Main at In[24]:40 overwritten at In[41]:42.\n"
     ]
    }
   ],
   "source": [
    "abstract BasicGate\n",
    "\n",
    "abstract MatrixGate <: BasicGate\n",
    "\n",
    "type BitwiseMatrixGate <: MatrixGate\n",
    "    m::CM\n",
    "end\n",
    "\n",
    "X = BitwiseMatrixGate([0 1; 1 0])\n",
    "H = BitwiseMatrixGate(1/√2 * [1 1; 1 -1])\n",
    "Z = BitwiseMatrixGate([1 0; 0 -1])\n",
    "R(θ) = BitwiseMatrixGate([exp(-0.5*θ*im) 0; 0 (exp(0.5*θ*im))])\n",
    "\n",
    "apply(g::BitwiseMatrixGate, r::Qreg, qbit::Int) = begin\n",
    "    result = copy(r)\n",
    "    pairs = state_pairs(r, qbit)\n",
    "    for p in pairs\n",
    "        pi = collect(p)\n",
    "        result.state[pi] = g.m*result.state[pi]\n",
    "    end\n",
    "    result\n",
    "end\n",
    "\n",
    "type ControlledMatrixGate <: MatrixGate\n",
    "    g::BitwiseMatrixGate\n",
    "    num_control_bits::Int\n",
    "end\n",
    "\n",
    "\"\"\"\n",
    "Returns the state pairs affecting the bit `qbit` where the control bits `control_bits` are '\n",
    "\"\"\"\n",
    "controlled_pairs(n_states::Int, control_bits::Array{Int}, qbit::Int) = begin\n",
    "    mask = mask_for_bits(control_bits)\n",
    "    # now get all pairs which affect the qbit\n",
    "    pairs = state_pairs(n_states, qbit)\n",
    "    # but only keep the ones where the control registers are 1\n",
    "    result = [p for p in pairs if ((p[1]-1) & mask) == mask]\n",
    "end\n",
    "\n",
    "controlled_pairs(r::Qreg, control_bits::Array{Int}, qbit::Int) = controlled_pairs(length(r.state), control_bits, qbit)\n",
    "\n",
    "apply(g::ControlledMatrixGate, r::Qreg, control_bits::Array{Int}, qbit::Int) = begin\n",
    "    @assert length(control_bits) == g.num_control_bits\n",
    "    result = copy(r)\n",
    "    for p in controlled_pairs(r, control_bits, qbit)\n",
    "        pi = collect(p)\n",
    "        result.state[pi] = g.g.m*result.state[pi]\n",
    "    end\n",
    "    result\n",
    "end\n",
    "\n",
    "CNOT = ControlledMatrixGate(X, 1)\n",
    "\n",
    "@testset \"Basic Gates\" begin\n",
    "    @test controlled_pairs(8, [2], 1) == [(3,4), (7,8)]\n",
    "    \n",
    "    @test apply(X, Qreg(\"|0>\"), 1) ≈ Qreg(\"|1>\")\n",
    "    @test apply(X, Qreg(\"|0100>\"), 3) ≈ Qreg(\"|0000>\")\n",
    "    @test apply(CNOT, Qreg(\"|10>\"),[2],1) ≈ Qreg(\"|11>\")\n",
    "    @test apply(CNOT, Qreg(\"|00>\"),[2],1) ≈ Qreg(\"|00>\")\n",
    "end\n",
    "\n"
   ]
  },
  {
   "cell_type": "code",
   "execution_count": 7,
   "metadata": {
    "collapsed": false
   },
   "outputs": [
    {
     "data": {
      "text/plain": [
       "\u001b[1m\u001b[32mTest Passed\n",
       "\u001b[0m  Expression: pick_state(apply(X,Qreg(3),3),0.5) == 5\n",
       "   Evaluated: 5 == 5"
      ]
     },
     "execution_count": 7,
     "metadata": {},
     "output_type": "execute_result"
    }
   ],
   "source": [
    "\n",
    "\"\"\"\n",
    "Picks a state as if a random number generator had come up with p=with_probability\n",
    "\"\"\"\n",
    "pick_state(r::Qreg, with_probability::Float64) = begin\n",
    "    accum = 0\n",
    "    index = 1\n",
    "    while accum < with_probability && index < length(r.state)\n",
    "        accum += abs(r.state[index])^2\n",
    "        index += 1\n",
    "    end\n",
    "    index -= 1\n",
    "    index\n",
    "end\n",
    "\n",
    "@test pick_state(apply(X, Qreg(3), 3), 0.5) == 5\n"
   ]
  },
  {
   "cell_type": "code",
   "execution_count": 25,
   "metadata": {
    "collapsed": false
   },
   "outputs": [
    {
     "data": {
      "text/plain": [
       "1-element Array{Tuple{Int64,Int64},1}:\n",
       " (2,4)"
      ]
     },
     "execution_count": 25,
     "metadata": {},
     "output_type": "execute_result"
    }
   ],
   "source": [
    "controlled_pairs(4, [1], 2)"
   ]
  },
  {
   "cell_type": "code",
   "execution_count": 9,
   "metadata": {
    "collapsed": false
   },
   "outputs": [
    {
     "name": "stdout",
     "output_type": "stream",
     "text": [
      "\u001b[1m\u001b[37mTest Summary:   | \u001b[0m\u001b[1m\u001b[32mPass  \u001b[0m\u001b[1m\u001b[34mTotal\u001b[0m\n",
      "  Measuring tests | \u001b[1m\u001b[32m   6  \u001b[0m\u001b[1m\u001b[34m    6\u001b[0m\n"
     ]
    }
   ],
   "source": [
    "\"\"\"\n",
    "The value of bits `bits` if the state `state` is picked.\n",
    "Uses 1-based indexing!  This may not be desired.  Think on this\n",
    "(ie state 1 = |0>, state 2 = |1>, etc)\n",
    "\"\"\"\n",
    "bits_for_state(state::Int, bits::Array{Int}) = [((((state - 1) >> (b-1)) & 1) == 1) for b in bits]\n",
    "\n",
    "\"\"\"\n",
    "The \"mask\" for a set of bit indices--basically the bits corresponding to the \n",
    "appropriate indices are set (ie `mask_for_bits([1, 3])==5`)\n",
    "\"\"\"\n",
    "mask_for_bits(bits) = reduce(|, [1<<(p-1) for p in bits])\n",
    "\n",
    "\"\"\"\n",
    "The \"value\" for a set of bit indices given a state\n",
    "\"\"\"\n",
    "state_val(res::Array{Bool}, bits::Array{Int}) = reduce(|, [((res[i] & 1) << (bits[i]-1)) for i =1:length(bits)])\n",
    "\n",
    "\"\"\"\n",
    "Measures the register at the picked state given.\n",
    "\n",
    "Marks the register so that a picked state with a particular set of bits eliminates \n",
    "disagreeing states (ie if bit 2 is measured to be 1, all states with bit 2 = 0 \n",
    "must be set to zero probability)\n",
    "\n",
    "Returns the array of bit values, and the new Qreg (after measurement)\n",
    "\"\"\"\n",
    "measure_picked_state(r::Qreg, pick::Int, bits::Array{Int}) = begin\n",
    "    # res: basically, which bits are true vs false in that picked state--ALL bits\n",
    "    result = bits_for_state(pick, bits)\n",
    "    # mask: which bits are *involved* in this measurement\n",
    "    mask = mask_for_bits(bits)\n",
    "    # val: values of the set bits in the given mask\n",
    "    val = state_val(result, bits)\n",
    "    #display(result)\n",
    "    #display(mask)\n",
    "    #display(val)\n",
    "    \n",
    "    zero_states = [i for i in 1:length(r.state) if (mask & (i-1)) != val]\n",
    "    #display(zero_states)\n",
    "    keep_states = [i for i in 1:length(r.state) if (mask & (i-1)) == val]\n",
    "    #display(keep_states)\n",
    "    \n",
    "    rr = copy(r)\n",
    "    rr.state[zero_states] = 0\n",
    "    renorm = sum(abs(rr.state[keep_states]) .^ 2)\n",
    "    #display(renorm)\n",
    "    rr.state[keep_states] *= 1/√renorm\n",
    "    \n",
    "    (result, rr)\n",
    "end\n",
    "\n",
    "@testset \"Measuring tests\" begin\n",
    "    @test bits_for_state(1, [1 2 3]) == [false false false]\n",
    "    @test bits_for_state(2, [1 2]) == [true false]\n",
    "    @test bits_for_state(7, [1 2 3]) == [false true true]\n",
    "    @test mask_for_bits([1 3]) == 5\n",
    "    \n",
    "    @test measure_picked_state(apply(H,Qreg(1),1),1,[1])[1] == [false]\n",
    "    @test measure_picked_state(apply(H,Qreg(1),1),1,[1])[2] ≈ Qreg(1)\n",
    "end\n"
   ]
  },
  {
   "cell_type": "code",
   "execution_count": 10,
   "metadata": {
    "collapsed": false
   },
   "outputs": [
    {
     "data": {
      "text/plain": [
       "1-element Array{Bool,1}:\n",
       " true"
      ]
     },
     "metadata": {},
     "output_type": "display_data"
    },
    {
     "name": "stdout",
     "output_type": "stream",
     "text": [
      "0000: 0.00\n",
      "0001: 0.00\n",
      "0010: 0.25\n",
      "0011: 0.25\n",
      "0100: 0.00\n",
      "0101: 0.00\n",
      "0110: 0.25\n",
      "0111: 0.25\n"
     ]
    }
   ],
   "source": [
    "r = cat(3)\n",
    "val, r2 = measure_picked_state(r, 3, [2])\n",
    "display(val)\n",
    "probs(r2)"
   ]
  },
  {
   "cell_type": "code",
   "execution_count": 31,
   "metadata": {
    "collapsed": false
   },
   "outputs": [
    {
     "name": "stdout",
     "output_type": "stream",
     "text": [
      "000: 0.50\n",
      "001: 0.00\n",
      "010: 0.00\n",
      "011: 0.50\n"
     ]
    },
    {
     "name": "stderr",
     "output_type": "stream",
     "text": [
      "WARNING: Method definition bell_pair(Any, Any, Any) in module Main at In[30]:1 overwritten at In[31]:1.\n"
     ]
    }
   ],
   "source": [
    "bell_pair(r, b1, b2) = begin\n",
    "    r2 = apply(H, r, b1)\n",
    "    r3 = apply(CNOT, r2, [b1], b2)\n",
    "    r3\n",
    "end\n",
    "probs(bell_pair(Qreg(\"|00>\"), 2, 1))"
   ]
  },
  {
   "cell_type": "code",
   "execution_count": 33,
   "metadata": {
    "collapsed": false
   },
   "outputs": [
    {
     "name": "stdout",
     "output_type": "stream",
     "text": [
      "search: \u001b[1mw\u001b[22m\u001b[1mi\u001b[22m\u001b[1mt\u001b[22m\u001b[1mh\u001b[22menv \u001b[1mw\u001b[22m\u001b[1mi\u001b[22m\u001b[1mt\u001b[22m\u001b[1mh\u001b[22m_rounding \u001b[1mw\u001b[22m\u001b[1mi\u001b[22m\u001b[1mt\u001b[22m\u001b[1mh\u001b[22m_bigfloat_precision ends\u001b[1mw\u001b[22m\u001b[1mi\u001b[22m\u001b[1mt\u001b[22m\u001b[1mh\u001b[22m str\u001b[1mw\u001b[22m\u001b[1mi\u001b[22md\u001b[1mt\u001b[22m\u001b[1mh\u001b[22m\n",
      "\n",
      "Couldn't find \u001b[36mwith\n",
      "\u001b[39mPerhaps you meant wait, write, which, bits, coth, sinh, withenv, widen or while\n"
     ]
    },
    {
     "data": {
      "text/markdown": [
       "No documentation found.\n",
       "\n",
       "Binding `with` does not exist.\n"
      ],
      "text/plain": [
       "No documentation found.\n",
       "\n",
       "Binding `with` does not exist.\n"
      ]
     },
     "execution_count": 33,
     "metadata": {},
     "output_type": "execute_result"
    }
   ],
   "source": [
    "?with"
   ]
  },
  {
   "cell_type": "code",
   "execution_count": 34,
   "metadata": {
    "collapsed": false
   },
   "outputs": [
    {
     "name": "stderr",
     "output_type": "stream",
     "text": [
      "\u001b[1m\u001b[34mINFO: Precompiling module AutoHashEquals.\n",
      "\u001b[0m"
     ]
    }
   ],
   "source": [
    "using ParserCombinator\n"
   ]
  },
  {
   "cell_type": "code",
   "execution_count": 39,
   "metadata": {
    "collapsed": false
   },
   "outputs": [
    {
     "data": {
      "text/plain": [
       "1-element Array{Any,1}:\n",
       " \"001\""
      ]
     },
     "execution_count": 39,
     "metadata": {},
     "output_type": "execute_result"
    }
   ],
   "source": [
    "q_const = E\"|\" + Pattern(r\"[01]+\") + E\">\"\n",
    "\n",
    "parse_one(\"|001>\", q_const )"
   ]
  }
 ],
 "metadata": {
  "kernelspec": {
   "display_name": "Julia 0.5.0",
   "language": "julia",
   "name": "julia-0.5"
  },
  "language_info": {
   "file_extension": ".jl",
   "mimetype": "application/julia",
   "name": "julia",
   "version": "0.5.0"
  }
 },
 "nbformat": 4,
 "nbformat_minor": 1
}

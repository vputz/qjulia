{
 "cells": [
  {
   "cell_type": "code",
   "execution_count": 2,
   "metadata": {
    "collapsed": false,
    "scrolled": true
   },
   "outputs": [
    {
     "data": {
      "text/plain": [
       "Qubit((0.0 + 0.0im,0.0 + 0.0im))"
      ]
     },
     "metadata": {},
     "output_type": "display_data"
    },
    {
     "data": {
      "text/plain": [
       "false"
      ]
     },
     "execution_count": 2,
     "metadata": {},
     "output_type": "execute_result"
    }
   ],
   "source": [
    "\n",
    "typealias CV Array{Complex{Float64},1}\n",
    "typealias CT Tuple{Complex{Float64},Complex{Float64}}\n",
    "typealias CM Array{Complex{Float64},2}\n",
    "\n",
    "type Qubit \n",
    "    state::CT\n",
    "end\n",
    "\n",
    "\n",
    "Base.convert(::Type{CV}, b::Qubit) = [b.state[1]; b.state[2]]\n",
    "\n",
    "Qubit(val::Bool) = Qubit( (val==false,val==true) )\n",
    "Qubit(val::Int) = if (val == 0 || val == 1 )\n",
    "    Qubit( (val==0,val==1))\n",
    "else\n",
    "    throw( DomainError())\n",
    "end\n",
    "Qubit(val::Array{Number,1}) = if (len(val) == 2)\n",
    "    Qubit( (val[1],val[2]) )\n",
    "else\n",
    "    throw(TypeError())\n",
    "end\n",
    "\n",
    "\n",
    "function is_normalized(b::Qubit)\n",
    "    return abs(b.state[1])^2 + abs(b.state[2])^2 == 1.0\n",
    "end\n",
    "\n",
    "b = Qubit((0,0))\n",
    "display(b)\n",
    "#convert(CV, b)\n",
    "#Qubit([0,0])\n",
    "is_normalized(b)"
   ]
  },
  {
   "cell_type": "code",
   "execution_count": null,
   "metadata": {
    "collapsed": true
   },
   "outputs": [],
   "source": []
  },
  {
   "cell_type": "code",
   "execution_count": 3,
   "metadata": {
    "collapsed": false
   },
   "outputs": [
    {
     "data": {
      "text/plain": [
       "6-element Array{Complex{Float64},1}:\n",
       " 0.0+0.0im\n",
       " 0.0+0.0im\n",
       " 0.0+0.0im\n",
       " 0.0+0.0im\n",
       " 0.0+0.0im\n",
       " 0.0+0.0im"
      ]
     },
     "execution_count": 3,
     "metadata": {},
     "output_type": "execute_result"
    }
   ],
   "source": [
    "## this is more cosmic if any bits are entangled.  Perhaps go to NxN?\n",
    "\n",
    "type Qureg\n",
    "    bits::Array{Qubit,1}\n",
    "end\n",
    "\n",
    "Base.convert(::Type{CV}, r::Qureg) = reduce(vcat, map(x->convert(CV,x),r.bits))\n",
    "convert(CV,b)\n",
    "r = Qureg([b,b,b])\n",
    "convert(CV, r)"
   ]
  },
  {
   "cell_type": "code",
   "execution_count": 4,
   "metadata": {
    "collapsed": false
   },
   "outputs": [
    {
     "data": {
      "text/plain": [
       "2-element Array{Complex{Float64},1}:\n",
       " 0.0+0.0im\n",
       " 0.0+0.0im"
      ]
     },
     "metadata": {},
     "output_type": "display_data"
    },
    {
     "data": {
      "text/plain": [
       "2-element Array{Complex{Float64},1}:\n",
       " 0.0+0.0im\n",
       " 0.0+0.0im"
      ]
     },
     "metadata": {},
     "output_type": "display_data"
    },
    {
     "data": {
      "text/plain": [
       "Qureg(Qubit[Qubit((0.0+0.0im,0.0+0.0im)),Qubit((0.0+0.0im,0.0+0.0im)),Qubit((0.0+0.0im,0.0+0.0im))])"
      ]
     },
     "metadata": {},
     "output_type": "display_data"
    },
    {
     "data": {
      "text/plain": [
       "6-element Array{Complex{Float64},1}:\n",
       " 0.0+0.0im\n",
       " 0.0+0.0im\n",
       " 0.0+0.0im\n",
       " 0.0+0.0im\n",
       " 0.0+0.0im\n",
       " 0.0+0.0im"
      ]
     },
     "metadata": {},
     "output_type": "display_data"
    }
   ],
   "source": [
    "abstract BasicGate\n",
    "\n",
    "abstract MatrixGate <: BasicGate\n",
    "\n",
    "Base.:|(g::MatrixGate, b::Qubit) = (g.m)*convert(CV,b)\n",
    "Base.:|(g::MatrixGate, g2::MatrixGate) = (g.m)*(g2.m)\n",
    "Base.:|(m::CM, b::Qubit) = m*convert(CV,b)\n",
    "Base.convert(::Type{CM}, m::MatrixGate) = m.m\n",
    "\n",
    "type BitwiseMatrixGate <: MatrixGate\n",
    "    m::CM\n",
    "end\n",
    "\n",
    "function expanded_bitwise_matrix(g::BitwiseMatrixGate, nbits::Integer)\n",
    "    result = zeros((2*nbits, 2*nbits))\n",
    "    for i in 1:nbits\n",
    "        result[2*i-1:2*i, 2*i-1:2*i] = g.m\n",
    "    end\n",
    "    result\n",
    "end\n",
    "\n",
    "Base.:|(g::BitwiseMatrixGate, r::Qureg) = expanded_bitwise_matrix(g, length(r.bits))*convert(CV,r)\n",
    "import Base: *\n",
    "\n",
    "\n",
    "#function X(b::Qubit)\n",
    "#    let m = [0 1; 1 0]\n",
    "#        m*b\n",
    "#    end\n",
    "#end\n",
    "\n",
    "X = BitwiseMatrixGate([0 1; 1 0])\n",
    "\n",
    "#X() = X([0 1; \n",
    "#         1 0])\n",
    "display(X|b)\n",
    "display(X|X|b)\n",
    "display(r)\n",
    "display(X|r)"
   ]
  },
  {
   "cell_type": "code",
   "execution_count": 7,
   "metadata": {
    "collapsed": false
   },
   "outputs": [
    {
     "data": {
      "text/plain": [
       "2-element Array{Complex{Float64},1}:\n",
       "  0.707107+0.0im\n",
       " -0.707107+0.0im"
      ]
     },
     "execution_count": 7,
     "metadata": {},
     "output_type": "execute_result"
    }
   ],
   "source": [
    "H = BitwiseMatrixGate( (1/√2)*[1 1; 1 -1])\n",
    "H | Qubit(0)\n",
    "H | Qubit(1)"
   ]
  },
  {
   "cell_type": "code",
   "execution_count": 4,
   "metadata": {
    "collapsed": false
   },
   "outputs": [
    {
     "ename": "LoadError",
     "evalue": "MethodError: no method matching |(::BitwiseMatrixGate, ::##1#2)\u001b[0m\nClosest candidates are:\n  |(::Any, ::Any, \u001b[1m\u001b[31m::Any\u001b[0m, \u001b[1m\u001b[31m::Any...\u001b[0m) at operators.jl:138\n  |(::BitwiseMatrixGate, \u001b[1m\u001b[31m::Qureg\u001b[0m) at In[3]:22\n  |(::MatrixGate, \u001b[1m\u001b[31m::Qubit\u001b[0m) at In[3]:5\n  ...\u001b[0m",
     "output_type": "error",
     "traceback": [
      "MethodError: no method matching |(::BitwiseMatrixGate, ::##1#2)\u001b[0m\nClosest candidates are:\n  |(::Any, ::Any, \u001b[1m\u001b[31m::Any\u001b[0m, \u001b[1m\u001b[31m::Any...\u001b[0m) at operators.jl:138\n  |(::BitwiseMatrixGate, \u001b[1m\u001b[31m::Qureg\u001b[0m) at In[3]:22\n  |(::MatrixGate, \u001b[1m\u001b[31m::Qubit\u001b[0m) at In[3]:5\n  ...\u001b[0m",
      ""
     ]
    }
   ],
   "source": [
    "X|b"
   ]
  },
  {
   "cell_type": "code",
   "execution_count": 28,
   "metadata": {
    "collapsed": false
   },
   "outputs": [
    {
     "data": {
      "text/plain": [
       "0.04908738521234052"
      ]
     },
     "execution_count": 28,
     "metadata": {},
     "output_type": "execute_result"
    }
   ],
   "source": [
    "π*(3/8)^2 - 2*π*0.25^2 "
   ]
  }
 ],
 "metadata": {
  "kernelspec": {
   "display_name": "Julia 0.5.0",
   "language": "julia",
   "name": "julia-0.5"
  },
  "language_info": {
   "file_extension": ".jl",
   "mimetype": "application/julia",
   "name": "julia",
   "version": "0.5.0"
  }
 },
 "nbformat": 4,
 "nbformat_minor": 1
}
